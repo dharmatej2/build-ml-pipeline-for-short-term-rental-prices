{
 "cells": [
  {
   "cell_type": "code",
   "execution_count": 1,
   "id": "57f087bd-014a-47a0-97e0-7437f52c04a1",
   "metadata": {},
   "outputs": [
    {
     "name": "stderr",
     "output_type": "stream",
     "text": [
      "\u001b[34m\u001b[1mwandb\u001b[0m: Currently logged in as: \u001b[33mdharmatej\u001b[0m (\u001b[33mdharmatej-udacity\u001b[0m). Use \u001b[1m`wandb login --relogin`\u001b[0m to force relogin\n"
     ]
    },
    {
     "data": {
      "text/html": [
       "wandb version 0.19.9 is available!  To upgrade, please run:\n",
       " $ pip install wandb --upgrade"
      ],
      "text/plain": [
       "<IPython.core.display.HTML object>"
      ]
     },
     "metadata": {},
     "output_type": "display_data"
    },
    {
     "data": {
      "text/html": [
       "Tracking run with wandb version 0.16.0"
      ],
      "text/plain": [
       "<IPython.core.display.HTML object>"
      ]
     },
     "metadata": {},
     "output_type": "display_data"
    },
    {
     "data": {
      "text/html": [
       "Run data is saved locally in <code>/home/dharmatej/build-ml-pipeline-for-short-term-rental-prices/src/eda/wandb/run-20250406_221543-r7wy8g60</code>"
      ],
      "text/plain": [
       "<IPython.core.display.HTML object>"
      ]
     },
     "metadata": {},
     "output_type": "display_data"
    },
    {
     "data": {
      "text/html": [
       "Syncing run <strong><a href='https://wandb.ai/dharmatej-udacity/nyc_airbnb/runs/r7wy8g60' target=\"_blank\">defiant-first-contact-4</a></strong> to <a href='https://wandb.ai/dharmatej-udacity/nyc_airbnb' target=\"_blank\">Weights & Biases</a> (<a href='https://wandb.me/run' target=\"_blank\">docs</a>)<br/>"
      ],
      "text/plain": [
       "<IPython.core.display.HTML object>"
      ]
     },
     "metadata": {},
     "output_type": "display_data"
    },
    {
     "data": {
      "text/html": [
       " View project at <a href='https://wandb.ai/dharmatej-udacity/nyc_airbnb' target=\"_blank\">https://wandb.ai/dharmatej-udacity/nyc_airbnb</a>"
      ],
      "text/plain": [
       "<IPython.core.display.HTML object>"
      ]
     },
     "metadata": {},
     "output_type": "display_data"
    },
    {
     "data": {
      "text/html": [
       " View run at <a href='https://wandb.ai/dharmatej-udacity/nyc_airbnb/runs/r7wy8g60' target=\"_blank\">https://wandb.ai/dharmatej-udacity/nyc_airbnb/runs/r7wy8g60</a>"
      ],
      "text/plain": [
       "<IPython.core.display.HTML object>"
      ]
     },
     "metadata": {},
     "output_type": "display_data"
    }
   ],
   "source": [
    " import wandb\n",
    " import pandas as pd\n",
    "\n",
    " run = wandb.init(project=\"nyc_airbnb\", group=\"eda\", save_code=True)\n",
    " local_path = wandb.use_artifact(\"sample.csv:latest\").file()\n",
    " df = pd.read_csv(local_path)"
   ]
  },
  {
   "cell_type": "code",
   "execution_count": 2,
   "id": "a08d39bb-3321-445e-9016-7e7082b5523b",
   "metadata": {},
   "outputs": [
    {
     "name": "stdout",
     "output_type": "stream",
     "text": [
      "/home/dharmatej/miniconda3/envs/nyc_airbnb_dev/bin/python\n"
     ]
    }
   ],
   "source": [
    "import sys\n",
    "print(sys.executable)"
   ]
  },
  {
   "cell_type": "code",
   "execution_count": 6,
   "id": "d9762b7d-d6c5-493a-a9d3-3d018f32fb0c",
   "metadata": {},
   "outputs": [
    {
     "name": "stderr",
     "output_type": "stream",
     "text": [
      "Summarize dataset:   0%| | 0/21 [00:00<?, ?it/s, Describe variable: l\n",
      "Summarize dataset:  14%|▏| 3/21 [00:00<00:03,  5.31it/s, Describe var\u001b[A\n",
      "Summarize dataset:  71%|▋| 15/21 [00:00<00:00, 26.03it/s, Describe va\u001b[A\n",
      "100%|████████████████████████████████| 16/16 [00:00<00:00, 21.59it/s]\u001b[A\n",
      "Summarize dataset:  78%|▊| 18/23 [00:01<00:00, 26.03it/s, Calculate a/home/dharmatej/miniconda3/envs/nyc_airbnb_dev/lib/python3.10/site-packages/ydata_profiling/model/correlations.py:87: UserWarning: There was an attempt to calculate the auto correlation, but this failed.\n",
      "To hide this warning, disable the calculation\n",
      "(using `df.profile_report(correlations={\"auto\": {\"calculate\": False}})`\n",
      "If this is problematic for your use case, please report this as an issue:\n",
      "https://github.com/ydataai/ydata-profiling/issues\n",
      "(include the error message: 'putmask: first argument must be an array')\n",
      "  warnings.warn(\n",
      "Summarize dataset: 100%|█| 126/126 [00:11<00:00, 11.01it/s, Completed\n",
      "Generate report structure: 100%|███████| 1/1 [00:05<00:00,  5.05s/it]\n",
      "Render HTML: 100%|█████████████████████| 1/1 [00:02<00:00,  2.33s/it]\n",
      "Export report to file: 100%|███████████| 1/1 [00:00<00:00, 22.82it/s]\n"
     ]
    }
   ],
   "source": [
    "from ydata_profiling import ProfileReport\n",
    "\n",
    "profile = ProfileReport(df)\n",
    "# profile.to_widgets()\n",
    "profile.to_file(\"profile_report.html\")\n"
   ]
  },
  {
   "cell_type": "code",
   "execution_count": 7,
   "id": "627c2db5-86d5-4c76-ad89-fae1f17c73a8",
   "metadata": {},
   "outputs": [],
   "source": [
    "# Drop outliers\n",
    "min_price = 10\n",
    "max_price = 350\n",
    "idx = df['price'].between(min_price, max_price)\n",
    "df = df[idx].copy()\n",
    "# Convert last_review to datetime\n",
    "df['last_review'] = pd.to_datetime(df['last_review'])"
   ]
  },
  {
   "cell_type": "code",
   "execution_count": 8,
   "id": "5802d7bb-79c5-4d40-9a1b-e83de81fb4aa",
   "metadata": {},
   "outputs": [
    {
     "data": {
      "text/html": [
       "W&B sync reduced upload amount by 15.4%             "
      ],
      "text/plain": [
       "<IPython.core.display.HTML object>"
      ]
     },
     "metadata": {},
     "output_type": "display_data"
    },
    {
     "data": {
      "text/html": [
       " View run <strong style=\"color:#cdcd00\">defiant-first-contact-4</strong> at: <a href='https://wandb.ai/dharmatej-udacity/nyc_airbnb/runs/r7wy8g60' target=\"_blank\">https://wandb.ai/dharmatej-udacity/nyc_airbnb/runs/r7wy8g60</a><br/> View job at <a href='https://wandb.ai/dharmatej-udacity/nyc_airbnb/jobs/QXJ0aWZhY3RDb2xsZWN0aW9uOjYwNjM2NTEzNQ==/version_details/v2' target=\"_blank\">https://wandb.ai/dharmatej-udacity/nyc_airbnb/jobs/QXJ0aWZhY3RDb2xsZWN0aW9uOjYwNjM2NTEzNQ==/version_details/v2</a><br/>Synced 6 W&B file(s), 0 media file(s), 7 artifact file(s) and 1 other file(s)"
      ],
      "text/plain": [
       "<IPython.core.display.HTML object>"
      ]
     },
     "metadata": {},
     "output_type": "display_data"
    },
    {
     "data": {
      "text/html": [
       "Find logs at: <code>./wandb/run-20250406_221543-r7wy8g60/logs</code>"
      ],
      "text/plain": [
       "<IPython.core.display.HTML object>"
      ]
     },
     "metadata": {},
     "output_type": "display_data"
    }
   ],
   "source": [
    "run.finish()"
   ]
  },
  {
   "cell_type": "code",
   "execution_count": null,
   "id": "726e52b9-1bcd-49f4-8b32-0592b0952256",
   "metadata": {},
   "outputs": [],
   "source": []
  }
 ],
 "metadata": {
  "kernelspec": {
   "display_name": "Python (nyc_airbnb_dev)",
   "language": "python",
   "name": "nyc_airbnb_dev"
  },
  "language_info": {
   "codemirror_mode": {
    "name": "ipython",
    "version": 3
   },
   "file_extension": ".py",
   "mimetype": "text/x-python",
   "name": "python",
   "nbconvert_exporter": "python",
   "pygments_lexer": "ipython3",
   "version": "3.10.16"
  }
 },
 "nbformat": 4,
 "nbformat_minor": 5
}
